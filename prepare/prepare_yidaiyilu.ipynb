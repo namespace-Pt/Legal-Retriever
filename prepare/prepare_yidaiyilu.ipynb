{
 "cells": [
  {
   "cell_type": "code",
   "execution_count": 42,
   "metadata": {},
   "outputs": [],
   "source": [
    "import os\n",
    "import re\n",
    "import json\n",
    "from bs4 import BeautifulSoup"
   ]
  },
  {
   "cell_type": "code",
   "execution_count": 48,
   "metadata": {},
   "outputs": [],
   "source": [
    "# 一带一路法治地图\n",
    "\n",
    "\n",
    "base_dir = \"/data/peitian/Data/legal/yidaiyilu\"\n",
    "raw_dir = os.path.join(base_dir, \"raw\")\n",
    "output_dir = os.path.join(base_dir, \"output\")\n",
    "os.makedirs(output_dir, exist_ok=True)\n",
    "\n",
    "for file_path in os.listdir(raw_dir):\n",
    "    name = file_path.split(\".\")[0]\n",
    "\n",
    "    with open(os.path.join(raw_dir, file_path), encoding=\"utf-8\") as f, open(os.path.join(output_dir, f\"{name}.jsonl\"), \"w\", encoding=\"utf-8\") as g:\n",
    "        soup = BeautifulSoup(f.read(), 'lxml')\n",
    "        contents = soup.find(\"div\", class_=\"content-detail-main\").text.split(\"\\n\")\n",
    "\n",
    "        refined_contents = []\n",
    "        for c in contents:\n",
    "            c = c.strip(\"\\u3000\").strip()\n",
    "            if len(c):\n",
    "                refined_contents.append(c)\n",
    "\n",
    "        found_first = False\n",
    "        laws = []\n",
    "        for c in refined_contents:\n",
    "            first_match = re.search(\"^(第1条)\", c)\n",
    "            last_match = re.search(\"(生效。)$\", c)\n",
    "            if found_first or first_match:\n",
    "                found_first = True\n",
    "                laws.append(c)\n",
    "            if last_match:\n",
    "                break\n",
    "\n",
    "        fatiaos = []\n",
    "        fatiao = []\n",
    "        for law in laws:\n",
    "            fatiao_match = re.search(\"^(第\\d*条)\", law)\n",
    "            if fatiao_match and len(fatiao):\n",
    "                concat_fatiao = \"\\n\".join(fatiao)\n",
    "                fatiaos.append(concat_fatiao)\n",
    "                fatiao.clear()\n",
    "            fatiao.append(law)\n",
    "        concat_fatiao = \"\\n\".join(fatiao)\n",
    "        fatiaos.append(concat_fatiao)\n",
    "\n",
    "        for fatiao in fatiaos:\n",
    "            g.write(json.dumps({\"text\": fatiao}, ensure_ascii=False) + \"\\n\")"
   ]
  },
  {
   "cell_type": "code",
   "execution_count": null,
   "metadata": {},
   "outputs": [],
   "source": []
  }
 ],
 "metadata": {
  "kernelspec": {
   "display_name": "Python 3",
   "language": "python",
   "name": "python3"
  },
  "language_info": {
   "codemirror_mode": {
    "name": "ipython",
    "version": 3
   },
   "file_extension": ".py",
   "mimetype": "text/x-python",
   "name": "python",
   "nbconvert_exporter": "python",
   "pygments_lexer": "ipython3",
   "version": "3.10.16"
  }
 },
 "nbformat": 4,
 "nbformat_minor": 2
}
