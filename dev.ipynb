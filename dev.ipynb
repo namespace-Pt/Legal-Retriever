{
 "cells": [
  {
   "cell_type": "code",
   "execution_count": 8,
   "metadata": {},
   "outputs": [],
   "source": [
    "import os\n",
    "import json\n",
    "import textwrap\n",
    "import numpy as np\n",
    "from elasticsearch import Elasticsearch\n",
    "from elasticsearch import helpers\n",
    "from utils.modeling import EmbeddingModel\n",
    "\n",
    "client = Elasticsearch(\"http://127.0.0.1:9200\")\n",
    "\n",
    "# install chinese analyzer\n",
    "ES_HOME = \"/data/peitian/Apps/elasticsearch-8.17.0\"\n",
    "# !bash {ES_HOME}/bin/elasticsearch-plugin install analysis-smartcn\n",
    "\n",
    "client.info()\n",
    "\n",
    "with open(\"config/bge-m3.json\") as f:\n",
    "    config = json.load(f)\n",
    "model = EmbeddingModel(**config)\n",
    "\n",
    "def pretty_response(response):\n",
    "    if len(response[\"hits\"][\"hits\"]) == 0:\n",
    "        print(\"Your search returned no results.\")\n",
    "    else:\n",
    "        for hit in response[\"hits\"][\"hits\"]:\n",
    "            score = hit[\"_score\"]\n",
    "            content = hit[\"_source\"][\"content\"]\n",
    "            article = hit[\"_source\"][\"law_article\"]\n",
    "            section = hit[\"_source\"][\"law_section\"]\n",
    "            name = hit[\"_source\"][\"law_name\"]\n",
    "            print()\n",
    "            # print(f\"ID: {id}\")\n",
    "            print(f\"Content: {textwrap.fill(content, 120)}\")\n",
    "            print(f\"Article: {textwrap.fill(article, 120)}\")\n",
    "            print(f\"Section: {textwrap.fill(section, 120)}\")\n",
    "            print(f\"Name: {textwrap.fill(name, 120)}\")\n",
    "            print(f\"Score: {score}\")"
   ]
  },
  {
   "cell_type": "code",
   "execution_count": 2,
   "metadata": {},
   "outputs": [
    {
     "data": {
      "text/plain": [
       "ObjectApiResponse({'acknowledged': True, 'shards_acknowledged': True, 'index': 'law'})"
      ]
     },
     "execution_count": 2,
     "metadata": {},
     "output_type": "execute_result"
    }
   ],
   "source": [
    "# 创建法条index\n",
    "\n",
    "client.indices.create(\n",
    "    index=\"law\",\n",
    "    settings={\n",
    "        # 'analysis': {\n",
    "        #     'analyzer': {\n",
    "        #         # we must set the default analyzer\n",
    "        #         \"default\": {\n",
    "        #             \"type\": \"smartcn\"\n",
    "        #         }\n",
    "        #     }\n",
    "        # },\n",
    "        # \"index.mapping.ignore_malformed\": True\n",
    "    },\n",
    "    mappings={\n",
    "        \"properties\": {\n",
    "            # field name\n",
    "            \"country\": {\n",
    "                \"type\": \"keyword\",\n",
    "            },\n",
    "            \"law_name\": {\n",
    "                \"type\": \"keyword\",\n",
    "            },\n",
    "            \"law_section\": {\n",
    "                \"type\": \"keyword\",\n",
    "            },\n",
    "            \"law_article\": {\n",
    "                \"type\": \"keyword\",\n",
    "            },\n",
    "            \"content\": {\n",
    "                \"type\": \"text\",\n",
    "            },\n",
    "            # \"embedding\": {\n",
    "            #     \"type\": \"dense_vector\",\n",
    "            #     \"dims\": 1024,\n",
    "            #     # enable hnsw\n",
    "            #     \"index\": True,\n",
    "            #     # inner product only allows unit-length vector\n",
    "            #     \"similarity\": \"dot_product\"  \n",
    "            # }\n",
    "        }\n",
    "    }\n",
    ")"
   ]
  },
  {
   "cell_type": "code",
   "execution_count": 2,
   "metadata": {},
   "outputs": [
    {
     "data": {
      "text/plain": [
       "ObjectApiResponse({'acknowledged': True})"
      ]
     },
     "execution_count": 2,
     "metadata": {},
     "output_type": "execute_result"
    }
   ],
   "source": [
    "# 删除index\n",
    "\n",
    "client.indices.delete(index=\"law\")"
   ]
  },
  {
   "cell_type": "code",
   "execution_count": null,
   "metadata": {},
   "outputs": [],
   "source": [
    "# 添加一带一路数据\n",
    "\n",
    "base_dir = \"/data/peitian/Data/legal/yidaiyilu/output\"\n",
    "\n",
    "def generate_laws():\n",
    "    for path in os.listdir(base_dir):\n",
    "        law_name = path.split(\".\")[0]\n",
    "        with open(os.path.join(base_dir, path), encoding=\"utf-8\") as f:\n",
    "            for i, line in enumerate(f):\n",
    "                break\n",
    "\n",
    "helpers.bulk(client, generate_laws())"
   ]
  },
  {
   "cell_type": "code",
   "execution_count": 4,
   "metadata": {},
   "outputs": [
    {
     "data": {
      "text/plain": [
       "(21429, [])"
      ]
     },
     "execution_count": 4,
     "metadata": {},
     "output_type": "execute_result"
    }
   ],
   "source": [
    "# 添加FLK数据\n",
    "\n",
    "base_dir = \"/data/peitian/Data/legal/flk/output\"\n",
    "\n",
    "def generate_laws():\n",
    "    for path in os.listdir(base_dir):\n",
    "        with open(os.path.join(base_dir, path), encoding=\"utf-8\") as f:\n",
    "            for i, line in enumerate(f):\n",
    "                item = json.loads(line)\n",
    "                item[\"country\"] = \"chn\"\n",
    "                item[\"_index\"] = \"law\"\n",
    "\n",
    "                yield item\n",
    "\n",
    "helpers.bulk(client, generate_laws())"
   ]
  },
  {
   "cell_type": "code",
   "execution_count": 9,
   "metadata": {},
   "outputs": [
    {
     "name": "stdout",
     "output_type": "stream",
     "text": [
      "\n",
      "Content: 第三十条 因正当防卫造成损害的，不承担责任。正当防卫超过必要的限度，造成不应有的损害的，正当防卫人应当承担适当的责任。\n",
      "Article: 第三十条\n",
      "Section: 第三章 不承担责任和减轻责任的情形\n",
      "Name: 中华人民共和国侵权责任法\n",
      "Score: 1.5959024\n",
      "\n",
      "Content: 第三条 各级人民政府应当采取措施，制止不正当竞争行为，为公平竞争创造良好的环境和条件。 国务院建立反不正当竞争工作协调机制，研究决定反不正当竞争重大政策，协调处理维护市场竞争秩序的重大问题。\n",
      "Article: 第三条\n",
      "Section: 第一章 总则\n",
      "Name: 中华人民共和国反不正当竞争法\n",
      "Score: 1.510809\n",
      "\n",
      "Content: 第十条 银行业监督管理机构工作人员，应当忠于职守，依法办事，公正廉洁，不得利用职务便利牟取不正当的利益，不得在金融机构等企业中兼任职务。\n",
      "Article: 第十条\n",
      "Section: 第二章 监督管理机构\n",
      "Name: 中华人民共和国银行业监督管理法\n",
      "Score: 1.4644626\n",
      "\n",
      "Content: 第三十三条 在对外贸易经营活动中，不得实施以不正当的低价销售商品、串通投标、发布虚假广告、进行商业贿赂等不正当竞争行为。 在对外贸易经营活动中实施不正当竞争行为的，依照有关反不正当竞争的法律、行政法规的规定处理。\n",
      "有前款违法行为，并危害对外贸易秩序的，国务院对外贸易主管部门可以采取禁止该经营者有关货物、技术进出口等措施消除危害。\n",
      "Article: 第三十三条\n",
      "Section: 第六章 对外贸易秩序\n",
      "Name: 中华人民共和国对外贸易法\n",
      "Score: 1.463229\n",
      "\n",
      "Content: 第四条 社区矫正对象应当依法接受社区矫正，服从监督管理。 社区矫正工作应当依法进行，尊重和保障人权。社区矫正对象依法享有的人身权利、财产权利和其他权利不受侵犯，在就业、就学和享受社会保障等方面不受歧视。\n",
      "Article: 第四条\n",
      "Section: 第一章  总则\n",
      "Name: 中华人民共和国社区矫正法\n",
      "Score: 1.4607658\n",
      "\n",
      "Content: 第二十条 为了使国家、公共利益、本人或者他人的人身、财产和其他权利免受正在进行的不法侵害，而采取的制止不法侵害的行为，对不法侵害人造成损害的，属于正当防卫，不负刑事责任。\n",
      "正当防卫明显超过必要限度造成重大损害的，应当负刑事责任，但是应当减轻或者免除处罚。 对正在进行行凶、杀人、抢劫、强奸、绑架以及其他严重危及人身安全的暴力犯罪，采取防卫行为，造成不法侵害人伤亡的，不属于防卫过当，不负刑事责任。\n",
      "Article: 第二十条\n",
      "Section: 第二章 犯罪\n",
      "Name: 中华人民共和国刑法\n",
      "Score: 1.4594097\n",
      "\n",
      "Content: 第四十三条 当事人在订立合同过程中知悉的商业秘密，无论合同是否成立，不得泄露或者不正当地使用。泄露或者不正当地使用该商业秘密给对方造成损失的，应当承担损害赔偿责任。\n",
      "Article: 第四十三条\n",
      "Section: 第二章 合同的订立\n",
      "Name: 中华人民共和国合同法\n",
      "Score: 1.4425845\n",
      "\n",
      "Content: 第一百五十六条 保险监督管理机构工作人员应当忠于职守，依法办事，公正廉洁，不得利用职务便利牟取不正当利益，不得泄露所知悉的有关单位和个人的商业秘密。\n",
      "Article: 第一百五十六条\n",
      "Section: 第六章 保险业监督管理\n",
      "Name: 中华人民共和国保险法\n",
      "Score: 1.4293927\n",
      "\n",
      "Content: 第三十四条 开展社区矫正工作，应当保障社区矫正对象的合法权益。社区矫正的措施和方法应当避免对社区矫正对象的正常工作和生活造成不必要的影响；非依法律规定，不得限制或者变相限制社区矫正对象的人身自由。\n",
      "社区矫正对象认为其合法权益受到侵害的，有权向人民检察院或者有关机关申诉、控告和检举。受理机关应当及时办理，并将办理结果告知申诉人、控告人和检举人。\n",
      "Article: 第三十四条\n",
      "Section: 第四章  监督管理\n",
      "Name: 中华人民共和国社区矫正法\n",
      "Score: 1.4258974\n",
      "\n",
      "Content: 第九条 商业银行开展业务，应当遵守公平竞争的原则，不得从事不正当竞争。\n",
      "Article: 第九条\n",
      "Section: 第一章 总则\n",
      "Name: 中华人民共和国商业银行法\n",
      "Score: 1.4084812\n"
     ]
    }
   ],
   "source": [
    "resp = client.search(\n",
    "    index=\"law\", \n",
    "    _source={\n",
    "        \"excludes\": \"embedding\",\n",
    "    },\n",
    "    query={\n",
    "        \"match\": \n",
    "            {\n",
    "                \"content\": {\n",
    "                    \"query\": \"不正当\",\n",
    "                    \"boost\": 0.2,\n",
    "                }\n",
    "            }\n",
    "    },\n",
    "    # knn={\n",
    "    #     \"field\": \"embedding\",\n",
    "    #     \"query_vector\": model.encode(\"这是啥\")[0].tolist(),  # generate embedding for query so it can be compared to `title_vector`\n",
    "    #     \"k\": 5,\n",
    "    #     \"num_candidates\": 10,\n",
    "    #     \"boost\": 0.9\n",
    "    # },\n",
    "    size=10,\n",
    ")\n",
    "pretty_response(resp)"
   ]
  }
 ],
 "metadata": {
  "kernelspec": {
   "display_name": "Python 3",
   "language": "python",
   "name": "python3"
  },
  "language_info": {
   "codemirror_mode": {
    "name": "ipython",
    "version": 3
   },
   "file_extension": ".py",
   "mimetype": "text/x-python",
   "name": "python",
   "nbconvert_exporter": "python",
   "pygments_lexer": "ipython3",
   "version": "3.10.16"
  }
 },
 "nbformat": 4,
 "nbformat_minor": 2
}
