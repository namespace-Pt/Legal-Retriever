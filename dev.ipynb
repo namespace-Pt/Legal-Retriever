{
 "cells": [
  {
   "cell_type": "code",
   "execution_count": 1,
   "metadata": {},
   "outputs": [
    {
     "name": "stderr",
     "output_type": "stream",
     "text": [
      "/data/peitian/Envs/llm/lib/python3.10/site-packages/tqdm/auto.py:21: TqdmWarning: IProgress not found. Please update jupyter and ipywidgets. See https://ipywidgets.readthedocs.io/en/stable/user_install.html\n",
      "  from .autonotebook import tqdm as notebook_tqdm\n"
     ]
    }
   ],
   "source": [
    "import json\n",
    "import textwrap\n",
    "import numpy as np\n",
    "from elasticsearch import Elasticsearch\n",
    "from elasticsearch import helpers\n",
    "from utils.modeling import EmbeddingModel\n",
    "\n",
    "client = Elasticsearch(\"http://127.0.0.1:9200\")\n",
    "\n",
    "# install chinese analyzer\n",
    "ES_HOME = \"/data/peitian/Apps/elasticsearch-8.17.0\"\n",
    "# !bash {ES_HOME}/bin/elasticsearch-plugin install analysis-smartcn\n",
    "\n",
    "client.info()\n",
    "\n",
    "with open(\"config/bge-m3.json\") as f:\n",
    "    config = json.load(f)\n",
    "model = EmbeddingModel(**config)\n",
    "\n",
    "def pretty_response(response):\n",
    "    if len(response[\"hits\"][\"hits\"]) == 0:\n",
    "        print(\"Your search returned no results.\")\n",
    "    else:\n",
    "        for hit in response[\"hits\"][\"hits\"]:\n",
    "            score = hit[\"_score\"]\n",
    "            # language = hit[\"_source\"][\"language\"]\n",
    "            # id = hit[\"_source\"][\"_id\"]\n",
    "            content = hit[\"_source\"][\"content\"]\n",
    "            # passage = hit[\"_source\"][\"passage\"]\n",
    "            print()\n",
    "            # print(f\"ID: {id}\")\n",
    "            print(f\"Content: {textwrap.fill(content, 120)}\")\n",
    "            print(f\"Score: {score}\")"
   ]
  },
  {
   "cell_type": "code",
   "execution_count": null,
   "metadata": {},
   "outputs": [],
   "source": [
    "# 创建法条index\n",
    "\n",
    "client.indices.create(\n",
    "    index=\"law\",\n",
    "    settings={\n",
    "        # 'analysis': {\n",
    "        #     'analyzer': {\n",
    "        #         # we must set the default analyzer\n",
    "        #         \"default\": {\n",
    "        #             \"type\": \"smartcn\"\n",
    "        #         }\n",
    "        #     }\n",
    "        # },\n",
    "        # \"index.mapping.ignore_malformed\": True\n",
    "    },\n",
    "    mappings={\n",
    "        \"properties\": {\n",
    "            # field name\n",
    "            \"country\": {\n",
    "                \"type\": \"keyword\",\n",
    "            },\n",
    "            \"code\": {\n",
    "                \"type\": \"keyword\",\n",
    "            },\n",
    "            \"content\": {\n",
    "                \"type\": \"text\",\n",
    "            },\n",
    "            \"embedding\": {\n",
    "                \"type\": \"dense_vector\",\n",
    "                \"dims\": 1024,\n",
    "                # enable hnsw\n",
    "                \"index\": True,\n",
    "                # inner product only allows unit-length vector\n",
    "                \"similarity\": \"dot_product\"  \n",
    "            }\n",
    "        }\n",
    "    }\n",
    ")"
   ]
  },
  {
   "cell_type": "code",
   "execution_count": 2,
   "metadata": {},
   "outputs": [
    {
     "data": {
      "text/plain": [
       "ObjectApiResponse({'acknowledged': True})"
      ]
     },
     "execution_count": 2,
     "metadata": {},
     "output_type": "execute_result"
    }
   ],
   "source": [
    "# 删除index\n",
    "\n",
    "client.indices.delete(index=\"law\")"
   ]
  },
  {
   "cell_type": "code",
   "execution_count": null,
   "metadata": {},
   "outputs": [],
   "source": [
    "import os\n",
    "import json\n",
    "base_dir = \"/data/peitian/Data/legal/yidaiyilu/output\"\n",
    "\n",
    "def generate_laws():\n",
    "    for path in os.listdir(base_dir):\n",
    "        code_name = path.split(\".\")[0]\n",
    "        with open(os.path.join(base_dir, path), encoding=\"utf-8\") as f:\n",
    "            for i, line in enumerate(f):\n",
    "                content = json.loads(line)[\"text\"]\n",
    "\n",
    "                yield {\n",
    "                    \"_index\": \"law\",\n",
    "                    \"country\": \"俄罗斯\",\n",
    "                    \"code\": code_name,\n",
    "                    \"content\": content,\n",
    "                    \"embedding\": model.encode(content)[0].tolist()\n",
    "                }\n",
    "                \n",
    "                break\n",
    "\n",
    "helpers.bulk(client, generate_laws())"
   ]
  },
  {
   "cell_type": "code",
   "execution_count": null,
   "metadata": {},
   "outputs": [],
   "source": [
    "resp = client.search(\n",
    "    index=\"law\", \n",
    "    _source={\n",
    "        \"excludes\": \"embedding\",\n",
    "    },\n",
    "    query={\n",
    "        \"match\": \n",
    "            {\n",
    "                \"content\": {\n",
    "                    \"query\": \"不正当\",\n",
    "                    \"boost\": 0.2,\n",
    "                }\n",
    "            }\n",
    "    },\n",
    "    # knn={\n",
    "    #     \"field\": \"embedding\",\n",
    "    #     \"query_vector\": model.encode(\"这是啥\")[0].tolist(),  # generate embedding for query so it can be compared to `title_vector`\n",
    "    #     \"k\": 5,\n",
    "    #     \"num_candidates\": 10,\n",
    "    #     \"boost\": 0.9\n",
    "    # },\n",
    "    size=10,\n",
    ")\n",
    "pretty_response(resp)"
   ]
  },
  {
   "cell_type": "code",
   "execution_count": null,
   "metadata": {},
   "outputs": [],
   "source": [
    "[x[\"_source\"] for x in resp[\"hits\"][\"hits\"]]"
   ]
  },
  {
   "cell_type": "code",
   "execution_count": null,
   "metadata": {},
   "outputs": [],
   "source": [
    "resp[\"hits\"]"
   ]
  }
 ],
 "metadata": {
  "kernelspec": {
   "display_name": "Python 3",
   "language": "python",
   "name": "python3"
  },
  "language_info": {
   "codemirror_mode": {
    "name": "ipython",
    "version": 3
   },
   "file_extension": ".py",
   "mimetype": "text/x-python",
   "name": "python",
   "nbconvert_exporter": "python",
   "pygments_lexer": "ipython3",
   "version": "3.10.16"
  }
 },
 "nbformat": 4,
 "nbformat_minor": 2
}
