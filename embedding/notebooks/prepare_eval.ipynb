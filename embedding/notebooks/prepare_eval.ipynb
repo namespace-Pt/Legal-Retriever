{
 "cells": [
  {
   "cell_type": "code",
   "execution_count": 1,
   "metadata": {},
   "outputs": [
    {
     "name": "stderr",
     "output_type": "stream",
     "text": [
      "/opt/tiger/miniconda/envs/llm/lib/python3.10/site-packages/tqdm/auto.py:21: TqdmWarning: IProgress not found. Please update jupyter and ipywidgets. See https://ipywidgets.readthedocs.io/en/stable/user_install.html\n",
      "  from .autonotebook import tqdm as notebook_tqdm\n"
     ]
    }
   ],
   "source": [
    "import os\n",
    "import sys\n",
    "if \"..\" not in sys.path:\n",
    "    sys.path.append(\"..\")\n",
    "    os.chdir(\"..\")\n",
    "\n",
    "import gc\n",
    "import datasets\n",
    "import json\n",
    "import string\n",
    "import torch\n",
    "import numpy as np\n",
    "from glob import glob\n",
    "\n",
    "from transformers import AutoModelForCausalLM, AutoTokenizer\n",
    "from tqdm import tqdm\n",
    "from safetensors.torch import load_file, save_file, safe_open\n",
    "from src import Data, Metrics, ModelArgs, get_model_and_tokenizer\n",
    "\n",
    "args = ModelArgs()"
   ]
  },
  {
   "cell_type": "code",
   "execution_count": 2,
   "metadata": {},
   "outputs": [
    {
     "name": "stderr",
     "output_type": "stream",
     "text": [
      "Generating train split: 1000000 examples [00:11, 87560.06 examples/s]\n"
     ]
    }
   ],
   "source": [
    "base_dir = \"/mnt/bn/search-douyin-rank-yg/all_data_from_lf/train_data/query_doc_info_sample_1102_eval_v1\"\n",
    "dataset = datasets.load_dataset(\"parquet\", data_files=glob(f\"{base_dir}/*.parquet\"), split=\"train\")"
   ]
  },
  {
   "cell_type": "code",
   "execution_count": 4,
   "metadata": {},
   "outputs": [],
   "source": [
    "df = dataset.to_pandas()"
   ]
  },
  {
   "cell_type": "code",
   "execution_count": 15,
   "metadata": {},
   "outputs": [],
   "source": [
    "gp_df = df.groupby(\"search_id\")"
   ]
  },
  {
   "cell_type": "code",
   "execution_count": 16,
   "metadata": {},
   "outputs": [
    {
     "data": {
      "text/plain": [
       "987896"
      ]
     },
     "execution_count": 16,
     "metadata": {},
     "output_type": "execute_result"
    }
   ],
   "source": [
    "len(gp_df)"
   ]
  },
  {
   "cell_type": "code",
   "execution_count": 14,
   "metadata": {},
   "outputs": [
    {
     "data": {
      "text/plain": [
       "(search_id                  9997\n",
       " user_id                    9997\n",
       " doc_id                     9997\n",
       " query                      9997\n",
       " position                   9997\n",
       " search_result_show_cnt     9997\n",
       " search_result_click_cnt    9997\n",
       " play_time_max              9997\n",
       " play_time_total            9997\n",
       " real_clk_ctr               9997\n",
       " video_oracle_ctr           9997\n",
       " ori_final_rel              9997\n",
       " doc_info                   9012\n",
       " dtype: int64,\n",
       " search_id                  362558\n",
       " user_id                    362558\n",
       " doc_id                     362558\n",
       " query                      362558\n",
       " position                   362558\n",
       " search_result_show_cnt     362558\n",
       " search_result_click_cnt    362558\n",
       " play_time_max              362558\n",
       " play_time_total            362558\n",
       " real_clk_ctr               362558\n",
       " video_oracle_ctr           362558\n",
       " ori_final_rel              362558\n",
       " doc_info                   325495\n",
       " dtype: int64)"
      ]
     },
     "execution_count": 14,
     "metadata": {},
     "output_type": "execute_result"
    }
   ],
   "source": [
    "df[df[\"search_result_click_cnt\"] > 1].count(), df[df[\"play_time_max\"] > 10000].count()"
   ]
  }
 ],
 "metadata": {
  "fileId": "d2924e5c-bcab-4c19-ba49-51a789c19481",
  "filePath": "/opt/tiger/DouyinSearchEmb/notebooks/prepare_eval.ipynb",
  "kernelspec": {
   "display_name": "llm",
   "language": "python",
   "name": "python3"
  },
  "language_info": {
   "codemirror_mode": {
    "name": "ipython",
    "version": 3
   },
   "file_extension": ".py",
   "mimetype": "text/x-python",
   "name": "python",
   "nbconvert_exporter": "python",
   "pygments_lexer": "ipython3",
   "version": "3.10.15"
  }
 },
 "nbformat": 4,
 "nbformat_minor": 2
}
