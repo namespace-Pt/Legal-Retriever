{
 "cells": [
  {
   "cell_type": "code",
   "execution_count": 13,
   "metadata": {},
   "outputs": [],
   "source": [
    "torch_ckpt = \"/mnt/bn/search-douyin-rank-yg/all_data_from_lf/peitian_data/data/outputs/qwen_0.5b-listwise-d64_2layer-v4-g2-fullparam-intra/checkpoint-26793\"\n",
    "hf_ckpt = torch_ckpt + \"-hf\"\n",
    "onnx_ckpt = hf_ckpt + \"-onnx\""
   ]
  },
  {
   "cell_type": "code",
   "execution_count": null,
   "metadata": {},
   "outputs": [],
   "source": [
    "# migrate from torch model to qwen model\n",
    "\n",
    "import os\n",
    "import shutil\n",
    "import json\n",
    "\n",
    "if os.path.exists(hf_ckpt):\n",
    "    shutil.rmtree(hf_ckpt)\n",
    "\n",
    "shutil.copytree(torch_ckpt, hf_ckpt)\n",
    "\n",
    "with \\\n",
    "    open(os.path.join(torch_ckpt, \"config.json\"), \"r\") as f, \\\n",
    "    open(os.path.join(torch_ckpt, \"model_args.json\"), \"r\") as g, \\\n",
    "    open(os.path.join(hf_ckpt, \"config.json\"), \"w\") as h:\n",
    "    config = json.load(f)\n",
    "    model_args = json.load(g)\n",
    "    config[\"mrl_dims\"] = model_args[\"mrl_dims\"]\n",
    "    config[\"mrl_2layer_proj\"] = model_args[\"mrl_2layer_proj\"]\n",
    "    config[\"auto_map\"] = {\n",
    "        \"AutoConfig\": \"configuration_qwen2.Qwen2Config\",\n",
    "        \"AutoModel\": \"modeling_qwen2.Qwen2EmbeddingModel\",\n",
    "        \"AutoModelForSequenceClassification\": \"modeling_qwen2.Qwen2EmbeddingModel\",\n",
    "    }\n",
    "    json.dump(config, h)\n",
    "\n",
    "os.remove(os.path.join(hf_ckpt, \"model_args.json\"))\n",
    "\n",
    "!cp /opt/tiger/DouyinSearchEmb/src/qwen2/* {hf_ckpt}/"
   ]
  },
  {
   "cell_type": "code",
   "execution_count": null,
   "metadata": {},
   "outputs": [],
   "source": [
    "from optimum.exporters.onnx import main_export\n",
    "\n",
    "from transformers import AutoConfig\n",
    "\n",
    "from optimum.exporters.onnx.config import TextDecoderOnnxConfig, TextDecoderWithPositionIdsOnnxConfig\n",
    "from optimum.utils import NormalizedTextConfig, DummyPastKeyValuesGenerator\n",
    "from typing import Dict\n",
    "\n",
    "\n",
    "class CustomMPTOnnxConfig(TextDecoderWithPositionIdsOnnxConfig):\n",
    "    pass\n",
    "\n",
    "config = AutoConfig.from_pretrained(hf_ckpt, trust_remote_code=True)\n",
    "\n",
    "main_export(\n",
    "    hf_ckpt,\n",
    "    output=onnx_ckpt,\n",
    "    task=\"text-classification\",\n",
    "    trust_remote_code=True,\n",
    "    no_post_process=True,\n",
    ")\n",
    "\n",
    "!cp {hf_ckpt}/modeling_qwen2.py {onnx_ckpt}/"
   ]
  },
  {
   "cell_type": "code",
   "execution_count": 15,
   "metadata": {},
   "outputs": [],
   "source": [
    "import torch\n",
    "from transformers import AutoTokenizer, AutoModelForSequenceClassification\n",
    "\n",
    "model_kwargs = {\n",
    "    # 用FA2\n",
    "    \"attn_implementation\": \"flash_attention_2\",\n",
    "    # 用GPU\n",
    "    \"device_map\": {\"\": \"cuda\"},\n",
    "    # 用fp16\n",
    "    \"torch_dtype\": torch.float16,\n",
    "    # 用自定义实现\n",
    "    \"trust_remote_code\": True\n",
    "}\n",
    "model = AutoModelForSequenceClassification.from_pretrained(hf_ckpt, **model_kwargs)"
   ]
  },
  {
   "cell_type": "code",
   "execution_count": 16,
   "metadata": {},
   "outputs": [],
   "source": [
    "from optimum.onnxruntime import ORTModelForSequenceClassification\n",
    "\n",
    "\n",
    "model_kwargs = {\n",
    "    # 用FA2\n",
    "    \"attn_implementation\": \"flash_attention_2\",\n",
    "    # 用GPU\n",
    "    \"device_map\": {\"\": \"cuda\"},\n",
    "    # 用fp16\n",
    "    \"torch_dtype\": torch.float16,\n",
    "    # 用自定义实现\n",
    "    \"trust_remote_code\": True\n",
    "}\n",
    "model_onnx = ORTModelForSequenceClassification.from_pretrained(onnx_ckpt, **model_kwargs)"
   ]
  },
  {
   "cell_type": "code",
   "execution_count": 17,
   "metadata": {},
   "outputs": [
    {
     "name": "stderr",
     "output_type": "stream",
     "text": [
      "\u001b[32m2024-12-04 15:43:48.388\u001b[0m | \u001b[1mINFO    \u001b[0m | \u001b[36msrc\u001b[0m:\u001b[36mget_model_and_tokenizer\u001b[0m:\u001b[36m36\u001b[0m - \u001b[1mLoading model and tokenizer from /mnt/bn/search-douyin-rank-yg/all_data_from_lf/peitian_data/data/outputs/qwen_0.5b-listwise-d64_2layer-v4-g2-fullparam-intra/checkpoint-26793...\u001b[0m\n",
      "Some weights of the model checkpoint at /mnt/bn/search-douyin-rank-yg/all_data_from_lf/peitian_data/data/outputs/qwen_0.5b-listwise-d64_2layer-v4-g2-fullparam-intra/checkpoint-26793 were not used when initializing Qwen2Model: ['mrl_proj_64.0.bias', 'mrl_proj_64.0.weight', 'mrl_proj_64.2.bias', 'mrl_proj_64.2.weight']\n",
      "- This IS expected if you are initializing Qwen2Model from the checkpoint of a model trained on another task or with another architecture (e.g. initializing a BertForSequenceClassification model from a BertForPreTraining model).\n",
      "- This IS NOT expected if you are initializing Qwen2Model from the checkpoint of a model that you expect to be exactly identical (initializing a BertForSequenceClassification model from a BertForSequenceClassification model).\n",
      "/opt/tiger/DouyinSearchEmb/src/modeling_dense.py:99: FutureWarning: You are using `torch.load` with `weights_only=False` (the current default value), which uses the default pickle module implicitly. It is possible to construct malicious pickle data which will execute arbitrary code during unpickling (See https://github.com/pytorch/pytorch/blob/main/SECURITY.md#untrusted-models for more details). In a future release, the default value for `weights_only` will be flipped to `True`. This limits the functions that could be executed during unpickling. Arbitrary objects will no longer be allowed to be loaded via this mode unless they are explicitly allowlisted by the user via `torch.serialization.add_safe_globals`. We recommend you start setting `weights_only=True` for any use case where you don't have full control of the loaded file. Please open an issue on GitHub for any issues related to this experimental feature.\n",
      "  weight = torch.load(mrl_weight_path, map_location=model.device)\n"
     ]
    }
   ],
   "source": [
    "# 按peitian代码加载\n",
    "\n",
    "import os\n",
    "import sys\n",
    "if \"..\" not in sys.path:\n",
    "    sys.path.append(\"..\")\n",
    "    os.chdir(\"..\")\n",
    "\n",
    "from src import ModelArgs, get_model_and_tokenizer\n",
    "\n",
    "args = ModelArgs()\n",
    "\n",
    "model_ref, _ = get_model_and_tokenizer(\n",
    "    args, \n",
    "    model_name_or_path=torch_ckpt,\n",
    "    mrl_dims=[64],\n",
    "    mrl_2layer_proj=True,\n",
    "    device=\"cuda\"\n",
    "\n",
    "    # packing is enabled by default\n",
    ")"
   ]
  },
  {
   "cell_type": "code",
   "execution_count": 21,
   "metadata": {},
   "outputs": [
    {
     "name": "stdout",
     "output_type": "stream",
     "text": [
      "dict_keys(['input_ids', 'position_ids', 'attention_mask'])\n",
      "input_ids\n",
      "attention_mask\n"
     ]
    }
   ],
   "source": [
    "# 测试一致性\n",
    "\n",
    "def apply_template(text, tokenizer, max_length: int = 512, is_query: bool = True):\n",
    "    # 25 tokens reserved for template\n",
    "    max_length = max_length - 25\n",
    "    input_ids = tokenizer.encode(text, max_length=max_length, truncation=True)\n",
    "    text = tokenizer.decode(input_ids, skip_special_tokens=True)\n",
    "\n",
    "    if is_query:\n",
    "        text = \"Query: {text}\\nUse one word to summarize the query's relevant information. The word is: \\\"\".format(text=text)\n",
    "    else:\n",
    "        text = \"Text: {text}\\nUse one word to summarize the text's content. The word is: \\\"\".format(text=text)\n",
    "    return text\n",
    "\n",
    "# NOTE: 左padding从而-1能直接拿到最后一个token的embedding\n",
    "tokenizer = AutoTokenizer.from_pretrained(torch_ckpt, padding_side=\"left\")\n",
    "\n",
    "inputs1 = \"I love bytedance!\" * 1000\n",
    "inputs1 = apply_template(inputs1, tokenizer, max_length=512)\n",
    "\n",
    "inputs2 = \"I love huawei\" * 100\n",
    "inputs2 = apply_template(inputs2, tokenizer, max_length=512)\n",
    "\n",
    "device = model.device\n",
    "\n",
    "# # padding\n",
    "# inputs = tokenizer([inputs1, inputs2], padding=True, return_tensors=\"pt\").to(device)\n",
    "\n",
    "# # packing\n",
    "input_ids = tokenizer([inputs1, inputs2]).input_ids\n",
    "position_ids = [list(range(len(x))) for x in input_ids]\n",
    "inputs = {\n",
    "    \"input_ids\": torch.tensor([sum(input_ids, [])], device=device), \n",
    "    \"position_ids\": torch.tensor([sum(position_ids, [])], device=device)\n",
    "}\n",
    "inputs[\"attention_mask\"] = torch.ones_like(inputs[\"input_ids\"])\n",
    "\n",
    "print(inputs.keys())\n",
    "\n",
    "a = model_ref._encode(inputs)\n",
    "b = model(**inputs)\n",
    "c = model_onnx(**inputs)\n",
    "# print(a == b)"
   ]
  },
  {
   "cell_type": "code",
   "execution_count": 22,
   "metadata": {},
   "outputs": [
    {
     "data": {
      "text/plain": [
       "tensor([[ 0.0667, -0.0531, -0.1608, -0.0148, -0.0320, -0.1418, -0.1052, -0.1243,\n",
       "         -0.0372,  0.0784, -0.0833,  0.2015,  0.2404,  0.0034, -0.0937, -0.1614,\n",
       "          0.0964,  0.0802, -0.0300, -0.1278,  0.1654, -0.0588, -0.0970,  0.0623,\n",
       "         -0.1439, -0.0311,  0.0037,  0.0720, -0.1389, -0.0130, -0.0616, -0.0682,\n",
       "          0.0182, -0.0774, -0.0529, -0.0476,  0.1059, -0.0238,  0.2202, -0.0981,\n",
       "         -0.1415,  0.0725, -0.0344, -0.1008, -0.1134,  0.2151,  0.1602, -0.3391,\n",
       "          0.0397,  0.0118,  0.0740, -0.0913,  0.0558, -0.0856, -0.0269, -0.0374,\n",
       "         -0.0600, -0.2603, -0.2751,  0.0614, -0.0961,  0.1792, -0.2952,  0.1208],\n",
       "        [ 0.1070,  0.0547, -0.1550, -0.0118, -0.0449,  0.0184, -0.0157, -0.1261,\n",
       "         -0.0185,  0.0337, -0.0860,  0.0286,  0.1305,  0.0286, -0.0914, -0.2147,\n",
       "          0.0804,  0.1155, -0.0446, -0.1075,  0.1941, -0.1321,  0.0490,  0.1245,\n",
       "         -0.1954,  0.1311,  0.0848,  0.0395, -0.1040, -0.0903, -0.0904, -0.0871,\n",
       "          0.1364, -0.2253,  0.1523, -0.0618,  0.0844,  0.0100,  0.1793, -0.0553,\n",
       "         -0.1476, -0.0019,  0.0603, -0.0571, -0.0750,  0.0250,  0.1144, -0.2881,\n",
       "          0.2469,  0.0206,  0.0369, -0.1975,  0.0110,  0.0019,  0.0235, -0.0043,\n",
       "         -0.1766, -0.2566, -0.2305,  0.1162, -0.1663,  0.1316, -0.2163,  0.1649]],\n",
       "       device='cuda:0', dtype=torch.float16, grad_fn=<DivBackward0>)"
      ]
     },
     "execution_count": 22,
     "metadata": {},
     "output_type": "execute_result"
    }
   ],
   "source": [
    "b"
   ]
  },
  {
   "cell_type": "code",
   "execution_count": 23,
   "metadata": {},
   "outputs": [
    {
     "data": {
      "text/plain": [
       "SequenceClassifierOutput(loss=None, logits=tensor([[ 0.0725, -0.0475, -0.1783, -0.0060, -0.0354, -0.1263, -0.0930, -0.1269,\n",
       "         -0.0418,  0.0695, -0.0766,  0.1929,  0.2344,  0.0046, -0.0915, -0.1527,\n",
       "          0.0817,  0.0846, -0.0281, -0.1302,  0.1672, -0.0646, -0.0837,  0.0728,\n",
       "         -0.1544, -0.0188,  0.0141,  0.0731, -0.1461, -0.0398, -0.0716, -0.0657,\n",
       "          0.0338, -0.0919, -0.0243, -0.0525,  0.1215, -0.0153,  0.2099, -0.0894,\n",
       "         -0.1436,  0.0649, -0.0260, -0.0973, -0.1167,  0.1990,  0.1552, -0.3393,\n",
       "          0.0549,  0.0178,  0.0767, -0.1055,  0.0516, -0.0749, -0.0268, -0.0396,\n",
       "         -0.0696, -0.2497, -0.2846,  0.0709, -0.1174,  0.1789, -0.2989,  0.1329]]), hidden_states=None, attentions=None)"
      ]
     },
     "execution_count": 23,
     "metadata": {},
     "output_type": "execute_result"
    }
   ],
   "source": [
    "c"
   ]
  }
 ],
 "metadata": {
  "fileId": "45f61f26-8aad-4b5b-a439-e36f91c24e9e",
  "filePath": "/opt/tiger/DouyinSearchEmb/notebooks/to_hf.ipynb",
  "kernelspec": {
   "display_name": "llm",
   "language": "python",
   "name": "python3"
  },
  "language_info": {
   "codemirror_mode": {
    "name": "ipython",
    "version": 3
   },
   "file_extension": ".py",
   "mimetype": "text/x-python",
   "name": "python",
   "nbconvert_exporter": "python",
   "pygments_lexer": "ipython3",
   "version": "3.10.15"
  }
 },
 "nbformat": 4,
 "nbformat_minor": 2
}
