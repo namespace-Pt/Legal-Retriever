{
 "cells": [
  {
   "cell_type": "code",
   "execution_count": 17,
   "metadata": {},
   "outputs": [],
   "source": [
    "import os\n",
    "import sys\n",
    "if \"..\" not in sys.path:\n",
    "    sys.path.append(\"..\")\n",
    "    os.chdir(\"..\")\n",
    "\n",
    "\n",
    "import gc\n",
    "import datasets\n",
    "import json\n",
    "import torch\n",
    "import numpy as np\n",
    "import pandas as pd\n",
    "import seaborn as sns\n",
    "import matplotlib.pyplot as plt\n",
    "from glob import glob\n",
    "from functools import partial\n",
    "from transformers import AutoModelForCausalLM, AutoTokenizer\n",
    "from sklearn.metrics import roc_auc_score\n",
    "from tqdm import tqdm\n",
    "from safetensors.torch import load_file, save_file, safe_open\n",
    "\n",
    "from src import Data, Metrics, ModelArgs, RetrievalDataCollator, get_model_and_tokenizer, dataset_no_transform, split_file_dir_name_ext, makedirs\n",
    "from src.trainer import TrainingArgs\n",
    "\n",
    "args = ModelArgs()"
   ]
  },
  {
   "cell_type": "code",
   "execution_count": 18,
   "metadata": {},
   "outputs": [
    {
     "name": "stderr",
     "output_type": "stream",
     "text": [
      "\u001b[32m2024-12-13 01:07:27.144\u001b[0m | \u001b[1mINFO    \u001b[0m | \u001b[36msrc\u001b[0m:\u001b[36mget_model_and_tokenizer\u001b[0m:\u001b[36m34\u001b[0m - \u001b[1mLoading model and tokenizer from /mnt/bn/search-douyin-rank-yg/all_data_from_lf/peitian_data/data/outputs/qwen_2_0.5b-listwise...\u001b[0m\n",
      "Some weights of the model checkpoint at /mnt/bn/search-douyin-rank-yg/all_data_from_lf/peitian_data/data/outputs/qwen_2_0.5b-listwise were not used when initializing Qwen2Model: ['mrl_proj_64.0.bias', 'mrl_proj_64.0.weight', 'mrl_proj_64.2.bias', 'mrl_proj_64.2.weight']\n",
      "- This IS expected if you are initializing Qwen2Model from the checkpoint of a model trained on another task or with another architecture (e.g. initializing a BertForSequenceClassification model from a BertForPreTraining model).\n",
      "- This IS NOT expected if you are initializing Qwen2Model from the checkpoint of a model that you expect to be exactly identical (initializing a BertForSequenceClassification model from a BertForSequenceClassification model).\n",
      "/opt/tiger/DouyinSearchEmb/src/modeling_dense.py:99: FutureWarning: You are using `torch.load` with `weights_only=False` (the current default value), which uses the default pickle module implicitly. It is possible to construct malicious pickle data which will execute arbitrary code during unpickling (See https://github.com/pytorch/pytorch/blob/main/SECURITY.md#untrusted-models for more details). In a future release, the default value for `weights_only` will be flipped to `True`. This limits the functions that could be executed during unpickling. Arbitrary objects will no longer be allowed to be loaded via this mode unless they are explicitly allowlisted by the user via `torch.serialization.add_safe_globals`. We recommend you start setting `weights_only=True` for any use case where you don't have full control of the loaded file. Please open an issue on GitHub for any issues related to this experimental feature.\n",
      "  weight = torch.load(mrl_weight_path, map_location=model.device)\n"
     ]
    }
   ],
   "source": [
    "try:\n",
    "    del model\n",
    "    gc.collect()\n",
    "    torch.cuda.empty_cache()\n",
    "except:\n",
    "    pass\n",
    "\n",
    "model, tokenizer = get_model_and_tokenizer(\n",
    "    args, \n",
    "    # attn_impl=\"sdpa\",\n",
    "    # packing=False,\n",
    "    device=\"cuda\",\n",
    "\n",
    "    # model_name_or_path='/mnt/bn/search-douyin-rank-yg/all_data_from_lf/peitian_data/data/outputs/qwen_2_1.5b-listwise-d64_2layer-v4-g2-bs128-fullparam-crossneg_8-temp0.02/checkpoint-6699',\n",
    "    model_name_or_path=\"/mnt/bn/search-douyin-rank-yg/all_data_from_lf/peitian_data/data/outputs/qwen_2_0.5b-listwise\",\n",
    "\n",
    "    mrl_dims=[64],\n",
    "    mrl_2layer_proj=True,\n",
    "\n",
    "    # lora=\"/mnt/bn/search-douyin-rank-yg/all_data_from_lf/peitian_data/data/outputs/qwen_0.5b-6m-listwise-d64_2layer/checkpoint-234\",\n",
    ")"
   ]
  },
  {
   "cell_type": "code",
   "execution_count": 17,
   "metadata": {},
   "outputs": [
    {
     "name": "stderr",
     "output_type": "stream",
     "text": [
      "\u001b[32m2024-12-10 13:51:58.792\u001b[0m | \u001b[1mINFO    \u001b[0m | \u001b[36msrc.data\u001b[0m:\u001b[36mprepare_train_data\u001b[0m:\u001b[36m227\u001b[0m - \u001b[1mLoading training data from ['/mnt/bn/search-douyin-rank-yg/all_data_from_lf/text_embedding_data/query_doc_info_sample_order_1028_v4_contra_qd/qwen2-v1-512-listwise-g2-tokenized']...\u001b[0m\n",
      "\u001b[32m2024-12-10 13:51:58.795\u001b[0m | \u001b[33m\u001b[1mWARNING \u001b[0m | \u001b[36msrc.utils\u001b[0m:\u001b[36msplit_file_dir_name_ext\u001b[0m:\u001b[36m69\u001b[0m - \u001b[33m\u001b[1m/mnt/bn/search-douyin-rank-yg/all_data_from_lf/text_embedding_data/query_doc_info_sample_order_1028_v4_contra_qd/qwen2-v1-512-listwise-g2-tokenized is a directory! Return None as suffix!\u001b[0m\n",
      "\u001b[32m2024-12-10 13:51:58.796\u001b[0m | \u001b[1mINFO    \u001b[0m | \u001b[36msrc.data\u001b[0m:\u001b[36mprepare_train_data\u001b[0m:\u001b[36m256\u001b[0m - \u001b[1mLoading query_doc_info_sample_order_1028_v4_contra_qd dataset from disk dataset (/mnt/bn/search-douyin-rank-yg/all_data_from_lf/text_embedding_data/query_doc_info_sample_order_1028_v4_contra_qd/qwen2-v1-512-listwise-g2-tokenized)...\u001b[0m\n"
     ]
    },
    {
     "data": {
      "text/plain": [
       "{'query': 'Query: 成昆铁路隧道\\nUse one word to summarize the query\\'s relevant information. The word is: \"',\n",
       " 'key': ['Text: <title>翻 一张 老 照片 ， 却是 多 年前 的 回忆 。\\n\\n<username>云淡 、 风 轻\\n\\n<music>情罪 （ 剪辑 版 ）\\n\\n<poi>\\n\\n<challenge>\\n\\n<ocr>隧道 集团 成昆 铁路 峨 米 段 项目 经理 部 C 中国 中铁 请 团 欢迎 党 症\\n\\n<asr>\\n\\n\\nUse one word to summarize the text\\'s content. The word is: \"',\n",
       "  'Text: <title>“ 为 有 牺牲 多 壮志 ， 敢 叫 日月 换 新天 ” 凿 427 条 隧道 ， 架 991 座 桥梁 ， 平均 每 500 米 就 有 一名 战士 牺牲 ， 这 是 人类 征服 世界 的 奇迹 ， 这 是 英雄 的 成昆 铁路 。 # 成昆 铁路 # 成昆 精神 # 中国 铁路 # 摄影\\n\\n<username>PASSER - BY\\n\\n<music>love again instrumental\\n\\n<poi>\\n\\n<challenge>成昆 铁路 成昆 精神 中国 铁路 摄影\\n\\n<ocr>有性 多 壮志 , 敢 叫 日月 换 新天 \" 成昆 铁路 黑井 古镇 云南 省 · 楚雄 彝族 自治州 法拉 展线 云南 省 · 楚雄 彝族 自治州 六 渡河 展线 云南 省 ? 楚雄 彝族 自治州 攀钢 集团 四川 省 · 攀枝花 市 德昌 县 四川 省 · 凉山 彝族 自治州 喜德 县 四川 省 · 凉山 彝族 自治州 沙马 拉达 站 四川 省 · 凉山 彝族 自治州 普雄 站 四川 省 · 凉山 彝族 自治州 铁马 人 桥 四川 省 · 凉山 彝族 自治州 越西 站 四川 省 · 凉山 彝族 自治州 16 车 四川 省 · 凉山 彝族 自治州 甘洛 站 瀑布 沟 四川 省 · 雅安 市 �\\nUse one word to summarize the text\\'s content. The word is: \"'],\n",
       " 'teacher_scores': None,\n",
       " 'length': 512}"
      ]
     },
     "execution_count": 17,
     "metadata": {},
     "output_type": "execute_result"
    }
   ],
   "source": [
    "training_args = TrainingArgs()\n",
    "\n",
    "train_dataset = Data.prepare_train_data(\n",
    "    \"/mnt/bn/search-douyin-rank-yg/all_data_from_lf/text_embedding_data/query_doc_info_sample_order_1028_v4_contra_qd/qwen2-v1-512-listwise-g2-tokenized\",\n",
    "    query_template=\"no\", \n",
    "    key_template=\"no\", \n",
    "    tokenizer=tokenizer,\n",
    "    # train_method=\"listwise\",\n",
    "    train_method=\"pointwise\",\n",
    "    group_size=2,\n",
    "    skip_preprocess=True\n",
    ")\n",
    "train_dataset[0]"
   ]
  },
  {
   "cell_type": "code",
   "execution_count": null,
   "metadata": {},
   "outputs": [],
   "source": [
    "collator = RetrievalDataCollator(tokenizer=tokenizer, packing=True)\n",
    "res = collator([train_dataset[i] for i in range(3)])\n",
    "# tokenizer.batch_decode(res[\"key\"]['input_ids'], skip_special_tokens=False)\n",
    "res[\"pointwise_labels\"]\n",
    "# res[\"query\"]"
   ]
  },
  {
   "cell_type": "code",
   "execution_count": 8,
   "metadata": {},
   "outputs": [
    {
     "name": "stderr",
     "output_type": "stream",
     "text": [
      "\u001b[32m2024-12-10 13:48:23.512\u001b[0m | \u001b[1mINFO    \u001b[0m | \u001b[36msrc.data\u001b[0m:\u001b[36mprepare_eval_data\u001b[0m:\u001b[36m338\u001b[0m - \u001b[1mLoading evaluation data from /mnt/bn/search-douyin-rank-yg/all_data_from_lf/text_embedding_data/query_doc_info_sample_order_1102_eval_v1...\u001b[0m\n",
      "\u001b[32m2024-12-10 13:48:23.514\u001b[0m | \u001b[33m\u001b[1mWARNING \u001b[0m | \u001b[36msrc.utils\u001b[0m:\u001b[36msplit_file_dir_name_ext\u001b[0m:\u001b[36m69\u001b[0m - \u001b[33m\u001b[1m/mnt/bn/search-douyin-rank-yg/all_data_from_lf/text_embedding_data/query_doc_info_sample_order_1102_eval_v1 is a directory! Return None as suffix!\u001b[0m\n",
      "\u001b[32m2024-12-10 13:48:23.515\u001b[0m | \u001b[1mINFO    \u001b[0m | \u001b[36msrc.data\u001b[0m:\u001b[36mprepare_eval_data\u001b[0m:\u001b[36m356\u001b[0m - \u001b[1mLoading text_embedding_data dataset from parquet (/mnt/bn/search-douyin-rank-yg/all_data_from_lf/text_embedding_data/query_doc_info_sample_order_1102_eval_v1/*.parquet)...\u001b[0m\n",
      "Downloading data: 100%|██████████| 60/60 [00:00<00:00, 226311.37files/s]\n",
      "Generating train split: 1290334 examples [00:17, 74154.82 examples/s]\n",
      "Filter (num_proc=120): 100%|██████████| 1290334/1290334 [00:00<00:00, 1314977.54 examples/s]\n",
      "\u001b[32m2024-12-10 13:48:50.015\u001b[0m | \u001b[33m\u001b[1mWARNING \u001b[0m | \u001b[36msrc.template\u001b[0m:\u001b[36mget_template\u001b[0m:\u001b[36m84\u001b[0m - \u001b[33m\u001b[1mNo matching query template found for dataset [text_embedding_data] under [v1], use the default template [Query: {text}\n",
      "Use one word to summarize the query's relevant information. The word is: \"] instead.\u001b[0m\n"
     ]
    },
    {
     "data": {
      "text/plain": [
       "(Dataset({\n",
       "     features: ['search_id', 'user_id', 'doc_id', 'query', 'position', 'search_result_show_cnt', 'search_result_click_cnt', 'play_time_max', 'play_time_total', 'real_clk_ctr', 'video_oracle_ctr', 'ori_final_rel', 'doc_info'],\n",
       "     num_rows: 214081\n",
       " }),\n",
       " {'query': 'Query: bananachacha幼儿舞蹈\\nUse one word to summarize the query\\'s relevant information. The word is: \"',\n",
       "  'pos_raw': ['<title># 不 辜负 每 一刻 好 时光\\n\\n<username>简洁 明了\\n\\n<music>红雪莲 （ cover 乌兰托娅 ）\\n\\n<poi>\\n\\n<challenge>不 辜负 每 一刻 好 时光\\n\\n<ocr>A 《 banana cha cha 》\\n\\n<asr>\\n\\n']})"
      ]
     },
     "execution_count": 8,
     "metadata": {},
     "output_type": "execute_result"
    }
   ],
   "source": [
    "eval_dataset = Data.prepare_eval_data(\n",
    "    \"/mnt/bn/search-douyin-rank-yg/all_data_from_lf/text_embedding_data/query_doc_info_sample_order_1102_eval_v1\", \n",
    "    # \"/mnt/bn/search-douyin-rank-yg/all_data_from_lf/infer_data/search_l1_doc_info_text_1102_shard1_subset_for_debug/queries.json\", \n",
    "    tokenizer=tokenizer, \n",
    "    query_template=\"v1\", \n",
    ")\n",
    "eval_dataset"
   ]
  },
  {
   "cell_type": "code",
   "execution_count": 5,
   "metadata": {},
   "outputs": [
    {
     "name": "stderr",
     "output_type": "stream",
     "text": [
      "\u001b[32m2024-12-10 13:47:35.478\u001b[0m | \u001b[1mINFO    \u001b[0m | \u001b[36msrc.data\u001b[0m:\u001b[36mprepare_corpus\u001b[0m:\u001b[36m400\u001b[0m - \u001b[1mLoading corpus from parquet (/mnt/bn/search-douyin-rank-yg/all_data_from_lf/infer_data/search_l1_doc_info_text_1102_test/*.parquet)...\u001b[0m\n",
      "\u001b[32m2024-12-10 13:47:36.203\u001b[0m | \u001b[33m\u001b[1mWARNING \u001b[0m | \u001b[36msrc.utils\u001b[0m:\u001b[36msplit_file_dir_name_ext\u001b[0m:\u001b[36m69\u001b[0m - \u001b[33m\u001b[1m/mnt/bn/search-douyin-rank-yg/all_data_from_lf/infer_data/search_l1_doc_info_text_1102_test is a directory! Return None as suffix!\u001b[0m\n"
     ]
    },
    {
     "data": {
      "text/plain": [
       "Dataset({\n",
       "    features: ['gid', 'text'],\n",
       "    num_rows: 1000000\n",
       "})"
      ]
     },
     "execution_count": 5,
     "metadata": {},
     "output_type": "execute_result"
    }
   ],
   "source": [
    "corpus = Data.prepare_corpus(\n",
    "    # \"/mnt/bn/search-douyin-rank-yg/all_data_from_lf/text_embedding_data/query_doc_info_sample_order_1102_eval_v2_peitian\",\n",
    "    # \"/mnt/bn/search-douyin-rank-yg/all_data_from_lf/dataset/inhouse_data/pretrain_llm/trainset/search_query_doc_sample_v2_peitian/v2-test\", \n",
    "    \"/mnt/bn/search-douyin-rank-yg/all_data_from_lf/infer_data/search_l1_doc_info_text_1102_test\", \n",
    "    tokenizer=tokenizer, \n",
    "    key_template=\"no\"\n",
    ")\n",
    "corpus"
   ]
  },
  {
   "cell_type": "code",
   "execution_count": null,
   "metadata": {},
   "outputs": [],
   "source": [
    "corpus[100]"
   ]
  },
  {
   "cell_type": "code",
   "execution_count": 12,
   "metadata": {},
   "outputs": [
    {
     "name": "stderr",
     "output_type": "stream",
     "text": [
      "Setting `pad_token_id` to `eos_token_id`:151643 for open-end generation.\n"
     ]
    },
    {
     "data": {
      "text/plain": [
       "'这是我最喜欢看的一集是《我爱我家》。它讲述的是一个家庭的幸福生活，其中最让我感动的是：小明的妈妈为了照顾小明，每天起早贪黑，从早到晚，从早到晚，从早到晚……\\n小明的妈妈每天起早贪黑，从早到晚，从早到晚，从早到晚……，她为了照顾小明，每天起早贪黑，从早到晚，从早到晚'"
      ]
     },
     "execution_count": 12,
     "metadata": {},
     "output_type": "execute_result"
    }
   ],
   "source": [
    "# debug generation\n",
    "from transformers import AutoModelForCausalLM\n",
    "\n",
    "try:\n",
    "    del model\n",
    "    gc.collect()\n",
    "    torch.cuda.empty_cache()\n",
    "except:\n",
    "    pass\n",
    "\n",
    "model = AutoModelForCausalLM.from_pretrained(\n",
    "    # \"/mnt/bn/search-douyin-rank-yg/all_data_from_lf/experiments/pretrain_llm/train_outputs/trainset-pretrain-query_doc_from_yunyi_202310_2024060301_200part-prob-1-qwen2_0_5b_fast-full-lorarank8-vanilla-cl4096-ms10000-bs2-gas32-lr1e-4-z0-cloudnative-lf-2ins8gpus-ri1001\", \n",
    "    args.model_name_or_path,\n",
    "    device_map={\"\": \"cuda\"}, \n",
    "    torch_dtype=\"auto\"\n",
    ")\n",
    "\n",
    "inputs = tokenizer(\"这是我最喜欢看的一集\", return_tensors=\"pt\").to(model.device)\n",
    "outputs = model.generate(**inputs, max_new_tokens=100)\n",
    "tokenizer.decode(outputs[0])"
   ]
  },
  {
   "cell_type": "code",
   "execution_count": 7,
   "metadata": {},
   "outputs": [],
   "source": [
    "# check 收敛速度\n",
    "\n",
    "with open(\"/mnt/bn/search-douyin-rank-yg/all_data_from_lf/peitian_data/data/outputs/qwen_2_0.5b-listwise-d64_2layer-v4-g2-bs256-fullparam-crossneg_8-temp0.02/checkpoint-6699/trainer_state.json\") as f:\n",
    "    trainer_state_0_5 = json.load(f)\n",
    "with open(\"/mnt/bn/search-douyin-rank-yg/all_data_from_lf/peitian_data/data/outputs/qwen_2_1.5b-listwise-d64_2layer-v4-g2-bs64-fullparam-crossneg_32-temp0.02/checkpoint-6699/trainer_state.json\") as f:\n",
    "    trainer_state_1_5 = json.load(f)\n",
    "with open(\"/mnt/bn/search-douyin-rank-yg/all_data_from_lf/peitian_data/data/outputs/qwen_2_7b-listwise-d64_2layer-v4-g2-bs16-fullparam-crossneg_128-temp0.02/checkpoint-13397/trainer_state.json\") as f:\n",
    "    trainer_state_7 = json.load(f)\n",
    "\n",
    "fig, axes = plt.subplots(1, 3, figsize=(16, 5))\n",
    "sns.lineplot([x[\"loss\"] for x in trainer_state_0_5[\"log_history\"]][100:], ax=axes[0])\n",
    "sns.lineplot([x[\"loss\"] for x in trainer_state_1_5[\"log_history\"]][100:], ax=axes[1])\n",
    "sns.lineplot([x[\"loss\"] for x in trainer_state_7[\"log_history\"]][100:], ax=axes[2])\n",
    "\n",
    "axes[0].set_title(\"0.5B\")\n",
    "axes[1].set_title(\"1.5B\")\n",
    "axes[2].set_title(\"7B\")"
   ]
  },
  {
   "cell_type": "code",
   "execution_count": 11,
   "metadata": {},
   "outputs": [
    {
     "name": "stderr",
     "output_type": "stream",
     "text": [
      "125000it [00:01, 63560.95it/s]\n",
      "125000it [00:01, 63960.79it/s]\n",
      "125000it [00:01, 62963.44it/s]\n",
      "125000it [00:01, 63711.09it/s]\n",
      "125000it [00:01, 63013.24it/s]\n",
      "125000it [00:01, 63346.76it/s]\n",
      "125000it [00:01, 63779.43it/s]\n",
      "125000it [00:01, 64115.85it/s]\n"
     ]
    }
   ],
   "source": [
    "# convert Lifei embedding to memmap on test set\n",
    "corpus = datasets.load_dataset(\"parquet\", data_files=glob(\"/mnt/bn/search-douyin-rank-yg/all_data_from_lf/infer_data/search_l1_doc_info_text_1102_test/*.parquet\"), split=\"train\")\n",
    "\n",
    "gid2index = {}\n",
    "for x in tqdm(corpus):\n",
    "    gid = x['gid']\n",
    "    gid2index[gid] = len(gid2index)\n",
    "\n",
    "\n",
    "memmap_path = \"/mnt/bn/search-douyin-rank-yg/all_data_from_lf/infer_data/search_l1_doc_info_text_1102_test_for_debug/dense/listwise.embeddings.memmap\"\n",
    "if os.path.exists(memmap_path):\n",
    "    os.remove(memmap_path)\n",
    "memmap = np.memmap(\n",
    "    makedirs(memmap_path),\n",
    "    mode=\"w+\",\n",
    "    dtype=np.float16,\n",
    "    shape=(len(gid2index), 64)\n",
    ")\n",
    "\n",
    "lifei_embedding_dir = \"/mnt/bn/search-douyin-rank-yg/all_data_from_lf/experiments/results/listwise-v2/search_l1_doc_info_text_1102_shard_0\"\n",
    "indices = []\n",
    "\n",
    "embedding_count = 0\n",
    "for path in os.listdir(lifei_embedding_dir):\n",
    "    path = os.path.join(lifei_embedding_dir, path)\n",
    "\n",
    "    with open(path) as f:\n",
    "        for i, line in enumerate(tqdm(f)):\n",
    "            gid, embedding_string = line.strip().split(\"\\t\")\n",
    "            embedding = np.array([float(x) for x in embedding_string.split(\",\")], dtype=np.float16)\n",
    "            if gid in gid2index:\n",
    "                indices.append(gid2index[gid])\n",
    "                memmap[embedding_count] = embedding\n",
    "                embedding_count += 1\n",
    "\n",
    "subset = corpus.select(indices)\n",
    "subset.save_to_disk(\"/mnt/bn/search-douyin-rank-yg/all_data_from_lf/infer_data/search_l1_doc_info_text_1102_test_for_debug\")"
   ]
  },
  {
   "cell_type": "code",
   "execution_count": 2,
   "metadata": {},
   "outputs": [],
   "source": [
    "# check weighted sum vec gradient\n",
    "\n",
    "a = torch.rand(3, 3, requires_grad=True)\n",
    "b = torch.rand(3, requires_grad=True)\n",
    "c = a * b[:, None]\n",
    "loss = c.sum()\n",
    "loss.backward()\n",
    "\n",
    "a.grad, b.grad, a.sum(1)"
   ]
  },
  {
   "cell_type": "code",
   "execution_count": 9,
   "metadata": {},
   "outputs": [
    {
     "data": {
      "text/plain": [
       "(tensor([0.8507, 0.4974, 0.5505], requires_grad=True),\n",
       " tensor([0.4557, 0.6518, 0.8644], requires_grad=True),\n",
       " tensor(1.1878, grad_fn=<DotBackward0>),\n",
       " tensor([2.0210, 1.1817, 1.3078], grad_fn=<MulBackward0>),\n",
       " tensor([1.0826, 1.5484, 2.0535], grad_fn=<MulBackward0>),\n",
       " tensor([1.0826, 1.5484, 2.0535]),\n",
       " tensor([2.0210, 1.1817, 1.3078]),\n",
       " tensor(2.3756))"
      ]
     },
     "execution_count": 9,
     "metadata": {},
     "output_type": "execute_result"
    }
   ],
   "source": [
    "# check gradient\n",
    "\n",
    "a = torch.rand(3, requires_grad=True)\n",
    "b = torch.rand(3, requires_grad=True)\n",
    "c = a@b\n",
    "c.retain_grad()\n",
    "loss = c**2\n",
    "loss.backward()\n",
    "a,b,c, 2*c*a, 2*c*b, a.grad, b.grad, c.grad"
   ]
  },
  {
   "cell_type": "code",
   "execution_count": null,
   "metadata": {},
   "outputs": [],
   "source": [
    "# convert Lifei embedding to memmap\n",
    "corpus = datasets.load_dataset(\"parquet\", data_files=\"/mnt/bn/search-douyin-rank-yg/all_data_from_lf/infer_data/search_l1_doc_info_text_1102/part-00000-3f2019bc-02b3-42b1-97bc-e358942007ff-c000.snappy.parquet\", split=\"train\")\n",
    "\n",
    "gids = {}\n",
    "with open(\"/mnt/bn/search-douyin-rank-yg/all_data_from_lf/experiments/results/emb_listwise_full_v1/search_l1_doc_info_text_1102_shard_0/embedding_0_emb.part\") as f:\n",
    "    for line in tqdm(f):\n",
    "        gid, embedding_string = line.strip().split(\"\\t\")\n",
    "        gid = int(gid)\n",
    "        gids[gid] = None\n",
    "\n",
    "count = 0\n",
    "gid2index = {}\n",
    "for i, x in enumerate(tqdm(corpus)):\n",
    "    gid = x['gid']\n",
    "    if gid in gids:\n",
    "        gids[gid] = i\n",
    "        gid2index[gid] = i\n",
    "        count += 1\n",
    "\n",
    "\n",
    "# memmap_path = \"/mnt/bn/search-douyin-rank-yg/all_data_from_lf/infer_data/search_l1_doc_info_text_1102_shard1_subset_for_debug/dense/listwise.embeddings.memmap\"\n",
    "memmap_path = \"/mnt/bn/search-douyin-rank-yg/all_data_from_lf/infer_data/search_l1_doc_info_text_1102_shard1_subset_for_debug/dense/pointwise.embeddings.memmap\"\n",
    "if os.path.exists(memmap_path):\n",
    "    os.remove(memmap_path)\n",
    "memmap = np.memmap(\n",
    "    makedirs(memmap_path),\n",
    "    mode=\"w+\",\n",
    "    dtype=np.float16,\n",
    "    shape=(len(gid2index), 64)\n",
    ")\n",
    "\n",
    "embedding_count = 0\n",
    "\n",
    "indices = []\n",
    "\n",
    "with open(\"/mnt/bn/search-douyin-rank-yg/all_data_from_lf/experiments/results/emb_pointwise_full_v1/search_l1_doc_info_text_1102_shard_0/embedding_0_emb.part\") as f:\n",
    "    for i, line in enumerate(tqdm(f)):\n",
    "        gid, embedding_string = line.strip().split(\"\\t\")\n",
    "        embedding = np.array([float(x) for x in embedding_string.split(\",\")], dtype=np.float16)\n",
    "        gid = int(gid)\n",
    "        if gid in gid2index:\n",
    "            indices.append(gid2index[gid])\n",
    "            memmap[embedding_count] = embedding\n",
    "            embedding_count += 1\n",
    "\n",
    "assert embedding_count == len(gid2index)\n",
    "\n",
    "# subset = corpus.select(indices)\n",
    "# subset.save_to_disk(\"/mnt/bn/search-douyin-rank-yg/all_data_from_lf/infer_data/search_l1_doc_info_text_1102_shard1_subset_for_debug\")"
   ]
  },
  {
   "cell_type": "code",
   "execution_count": null,
   "metadata": {},
   "outputs": [],
   "source": [
    "eval_dataset_path = \"/mnt/bn/search-douyin-rank-yg/all_data_from_lf/text_embedding_data/query_doc_info_sample_order_1102_eval_v2\"\n",
    "eval_dataset = datasets.load_dataset(\"parquet\", data_files=f\"{eval_dataset_path}/*.parquet\", split=\"train\")\n",
    "eval_dataset"
   ]
  },
  {
   "cell_type": "code",
   "execution_count": null,
   "metadata": {},
   "outputs": [],
   "source": [
    "eval_dataset_path = \"/mnt/bn/search-douyin-rank-yg/all_data_from_lf/text_embedding_data/query_doc_info_sample_order_1102_eval_v2_deduplicate\"\n",
    "eval_dataset = datasets.load_from_disk(eval_dataset_path)\n",
    "eval_dataset"
   ]
  },
  {
   "cell_type": "code",
   "execution_count": null,
   "metadata": {},
   "outputs": [],
   "source": [
    "# deduplicate training set and testing set queries\n",
    "\n",
    "train_dataset_path = \"/mnt/bn/search-douyin-rank-yg/all_data_from_lf/text_embedding_data/query_doc_info_sample_order_1028_v4_contra_qd_0.1/0.1s0e200_query_pos_neg\"\n",
    "eval_dataset_path = \"/mnt/bn/search-douyin-rank-yg/all_data_from_lf/text_embedding_data/query_doc_info_sample_order_1102_eval_v2\"\n",
    "\n",
    "train_dataset = datasets.load_from_disk(train_dataset_path)\n",
    "eval_dataset = datasets.load_dataset(\"parquet\", data_files=f\"{eval_dataset_path}/*.parquet\", split=\"train\")\n",
    "\n",
    "def deduplicate_generator(eval_dataset, train_queries):\n",
    "    for x in tqdm(eval_dataset, total=len(eval_dataset)):\n",
    "        if hash(x[\"query\"]) not in train_queries:\n",
    "            yield x\n",
    "\n",
    "train_queries = set(hash(x) for x in train_dataset.unique(\"query\"))\n",
    "\n",
    "deduplicate_eval_dataset = datasets.Dataset.from_generator(lambda: deduplicate_generator(eval_dataset, train_queries))\n",
    "deduplicate_eval_dataset.save_to_disk(f\"{eval_dataset_path}_deduplicate\")\n",
    "\n",
    "f\"Original eval_dataset: {len(eval_dataset)}\\nDeduplicated eval_dataset:{len(deduplicate_eval_dataset)}\""
   ]
  },
  {
   "cell_type": "code",
   "execution_count": 17,
   "metadata": {},
   "outputs": [
    {
     "name": "stderr",
     "output_type": "stream",
     "text": [
      "/tmp/ipykernel_243630/1917167863.py:5: FutureWarning: You are using `torch.load` with `weights_only=False` (the current default value), which uses the default pickle module implicitly. It is possible to construct malicious pickle data which will execute arbitrary code during unpickling (See https://github.com/pytorch/pytorch/blob/main/SECURITY.md#untrusted-models for more details). In a future release, the default value for `weights_only` will be flipped to `True`. This limits the functions that could be executed during unpickling. Arbitrary objects will no longer be allowed to be loaded via this mode unless they are explicitly allowlisted by the user via `torch.serialization.add_safe_globals`. We recommend you start setting `weights_only=True` for any use case where you don't have full control of the loaded file. Please open an issue on GitHub for any issues related to this experimental feature.\n",
      "  scores1 = torch.load(\"/opt/tiger/DouyinSearchEmb/data/results/docsim/qwen_2_0.5b-listwise-d64_2layer-v4-g2-bs256-fullparam-crossneg_8-temp0.2--checkpoint-6699/results.pt\").flatten().numpy()\n",
      "/tmp/ipykernel_243630/1917167863.py:9: FutureWarning: You are using `torch.load` with `weights_only=False` (the current default value), which uses the default pickle module implicitly. It is possible to construct malicious pickle data which will execute arbitrary code during unpickling (See https://github.com/pytorch/pytorch/blob/main/SECURITY.md#untrusted-models for more details). In a future release, the default value for `weights_only` will be flipped to `True`. This limits the functions that could be executed during unpickling. Arbitrary objects will no longer be allowed to be loaded via this mode unless they are explicitly allowlisted by the user via `torch.serialization.add_safe_globals`. We recommend you start setting `weights_only=True` for any use case where you don't have full control of the loaded file. Please open an issue on GitHub for any issues related to this experimental feature.\n",
      "  scores2 = torch.load(\"/opt/tiger/DouyinSearchEmb/data/results/docsim/qwen_2_0.5b-listwise-d64_2layer-v4-g2-bs256-fullparam-crossneg_8-temp0.02--checkpoint-6699/results.pt\").flatten().numpy()\n"
     ]
    },
    {
     "data": {
      "text/plain": [
       "Text(0.5, 1.0, 'temp=0.02')"
      ]
     },
     "execution_count": 17,
     "metadata": {},
     "output_type": "execute_result"
    },
    {
     "data": {
      "image/png": "[encoded data removed]",
      "text/plain": [
       "<Figure size 1600x500 with 2 Axes>"
      ]
     },
     "metadata": {},
     "output_type": "display_data"
    }
   ],
   "source": [
    "# check docsim figure\n",
    "\n",
    "fig, axes = plt.subplots(1, 2, figsize=(16, 5))\n",
    "\n",
    "scores1 = torch.load(\"/opt/tiger/DouyinSearchEmb/data/results/docsim/qwen_2_0.5b-listwise-d64_2layer-v4-g2-bs256-fullparam-crossneg_8-temp0.2--checkpoint-6699/results.pt\").flatten().numpy()\n",
    "ax = sns.histplot(scores1[:100000], ax=axes[0])\n",
    "ax.set_title(\"temp=0.2\")\n",
    "\n",
    "scores2 = torch.load(\"/opt/tiger/DouyinSearchEmb/data/results/docsim/qwen_2_0.5b-listwise-d64_2layer-v4-g2-bs256-fullparam-crossneg_8-temp0.02--checkpoint-6699/results.pt\").flatten().numpy()\n",
    "ax = sns.histplot(scores2[:100000], ax=axes[1])\n",
    "ax.set_title(\"temp=0.02\")"
   ]
  },
  {
   "cell_type": "code",
   "execution_count": 14,
   "metadata": {},
   "outputs": [
    {
     "data": {
      "text/plain": [
       "12800000"
      ]
     },
     "execution_count": 14,
     "metadata": {},
     "output_type": "execute_result"
    }
   ],
   "source": [
    "len(scores1)"
   ]
  },
  {
   "cell_type": "code",
   "execution_count": null,
   "metadata": {},
   "outputs": [],
   "source": [
    "# check length distribution\n",
    "\n",
    "MISSING_DOC_PLACEHOLDER = \"NAN\"\n",
    "\n",
    "def process_fn(data, tokenizer):\n",
    "    outputs = {\"length\": []}\n",
    "    for pos, neg in zip(data[\"pos\"], data[\"neg\"]):\n",
    "        if pos[0] != MISSING_DOC_PLACEHOLDER and neg[0] == MISSING_DOC_PLACEHOLDER:\n",
    "            doc = pos[0]\n",
    "        elif neg[0] != MISSING_DOC_PLACEHOLDER and pos[0] == MISSING_DOC_PLACEHOLDER:\n",
    "            doc = neg[0]\n",
    "\n",
    "        length = len(tokenizer.encode(doc))\n",
    "        outputs[\"length\"].append(length)\n",
    "    return outputs\n",
    "\n",
    "dataset = datasets.load_from_disk(\"/mnt/bn/search-douyin-rank-yg/all_data_from_lf/dataset/inhouse_data/pretrain_llm/trainset/search_query_doc_sample_v2_peitian/v2-train\")\n",
    "dataset = dataset.train_test_split(100000)[\"test\"]\n",
    "dataset = dataset.map(partial(process_fn, tokenizer=tokenizer), batched=True, num_proc=32, batch_size=32)"
   ]
  },
  {
   "cell_type": "code",
   "execution_count": null,
   "metadata": {},
   "outputs": [],
   "source": [
    "lengths = np.array(dataset[\"length\"])\n",
    "TOTAL = len(lengths)\n",
    "\n",
    "data = []\n",
    "data.append({\"length\": \"0~256\", \"portion\": len(lengths[lengths<=256]) / TOTAL})\n",
    "data.append({\"length\": \"256~512\", \"portion\": len(lengths[(256<lengths) * (lengths<=512)]) / TOTAL})\n",
    "data.append({\"length\": \"512~1024\", \"portion\":  len(lengths[(512<lengths) * (lengths<=1024)]) / TOTAL})\n",
    "data.append({\"length\": \"1024~2048\", \"portion\":  len(lengths[(1024<lengths) * (2048<=2048)]) / TOTAL})\n",
    "data.append({\"length\": \"2048+\", \"portion\": len(lengths[2048<lengths]) / TOTAL})\n",
    "\n",
    "data = pd.DataFrame(data)\n",
    "\n",
    "sns.set(rc={'figure.figsize':(12, 5), \"axes.titlesize\":16, \"axes.labelsize\":14}, style=\"whitegrid\", palette=\"colorblind\")\n",
    "ax = sns.barplot(data, x=\"length\", y=\"portion\")"
   ]
  },
  {
   "cell_type": "code",
   "execution_count": null,
   "metadata": {},
   "outputs": [],
   "source": [
    "# check pointwise loss\n",
    "\n",
    "scores = torch.tensor([0.1193]).expand(256 * 8)\n",
    "labels = torch.zeros_like(scores)\n",
    "# labels[:43] = 1\n",
    "\n",
    "loss = torch.nn.functional.binary_cross_entropy(scores, labels)\n",
    "\n",
    "loss"
   ]
  },
  {
   "cell_type": "code",
   "execution_count": null,
   "metadata": {},
   "outputs": [],
   "source": [
    "# check binary cross-entropy\n",
    "\n",
    "logits = torch.rand(2,3)\n",
    "labels = torch.tensor([[1,0,1], [1,1,0]], dtype=logits.dtype)"
   ]
  },
  {
   "cell_type": "code",
   "execution_count": null,
   "metadata": {},
   "outputs": [],
   "source": [
    "# check mixtral loss\n",
    "\n",
    "import torch\n",
    "from transformers import MixtralForCausalLM, MixtralConfig\n",
    "\n",
    "config = MixtralConfig(num_hidden_layers=1, num_attention_heads=32, hidden_size=128, intermediate_size=128)\n",
    "model = MixtralForCausalLM(config)\n",
    "inputs = torch.tensor([[1,2,3,4,5]])\n",
    "\n",
    "model(inputs, output_router_logits=True)"
   ]
  },
  {
   "cell_type": "code",
   "execution_count": null,
   "metadata": {},
   "outputs": [],
   "source": [
    "# check similarity distribution\n",
    "\n",
    "with open(\"/mnt/bn/search-douyin-rank-yg/all_data_from_lf/peitian_data/results.json\") as f:\n",
    "    logits = torch.tensor(json.load(f)[\"predictions\"])\n",
    "\n",
    "scores = torch.log(logits / (1 - logits))\n",
    "sns.histplot(scores)"
   ]
  }
 ],
 "metadata": {
  "fileId": "2c3bc472-4456-4b08-8346-cd95db5da396",
  "filePath": "/opt/tiger/zhulifei/DouyinSearchEmb/notebooks/dev.ipynb",
  "kernelspec": {
   "display_name": "Python 3",
   "language": "python",
   "name": "python3"
  },
  "language_info": {
   "codemirror_mode": {
    "name": "ipython",
    "version": 3
   },
   "file_extension": ".py",
   "mimetype": "text/x-python",
   "name": "python",
   "nbconvert_exporter": "python",
   "pygments_lexer": "ipython3",
   "version": "3.10.15"
  }
 },
 "nbformat": 4,
 "nbformat_minor": 2
}
